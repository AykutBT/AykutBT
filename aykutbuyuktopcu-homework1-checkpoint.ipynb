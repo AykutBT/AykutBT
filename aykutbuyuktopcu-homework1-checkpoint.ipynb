{
 "cells": [
  {
   "cell_type": "code",
   "execution_count": null,
   "metadata": {
    "scrolled": false
   },
   "outputs": [
    {
     "name": "stdout",
     "output_type": "stream",
     "text": [
      "find the roots second stage with an unknown equation\n"
     ]
    }
   ],
   "source": [
    "print(\"find the roots second stage with an unknown equation\")\n",
    "#y=ax^2+bx+c\n",
    "\n",
    "\"\"\"\"\"\n",
    "first root : (-b - delta ** 0.5)/(2*a)\n",
    "second root : (-b + delta ** 0.5)/(2*a)\n",
    "\n",
    "\"\"\"\n",
    "\n",
    "a=int(input(\"a : \"))\n",
    "b=int(input(\"b : \"))\n",
    "c=int(input(\"c : \"))\n",
    "\n",
    "delta=b*b-4*a*c\n",
    "\n",
    "x1=(-b-delta**1/2)/(2*a)\n",
    "x2=(-b+delta**1/2)/(2*a)\n",
    "\n",
    "print(\"first root : {}\\nsecond root : {}\".format(x1,x2))\n",
    "\n",
    "print(\"you're sincerely...\")"
   ]
  },
  {
   "cell_type": "code",
   "execution_count": null,
   "metadata": {},
   "outputs": [],
   "source": []
  }
 ],
 "metadata": {
  "kernelspec": {
   "display_name": "Python 3",
   "language": "python",
   "name": "python3"
  },
  "language_info": {
   "codemirror_mode": {
    "name": "ipython",
    "version": 3
   },
   "file_extension": ".py",
   "mimetype": "text/x-python",
   "name": "python",
   "nbconvert_exporter": "python",
   "pygments_lexer": "ipython3",
   "version": "3.7.3"
  }
 },
 "nbformat": 4,
 "nbformat_minor": 2
}
