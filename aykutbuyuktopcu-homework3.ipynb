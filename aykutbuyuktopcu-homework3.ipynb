{
 "cells": [
  {
   "cell_type": "code",
   "execution_count": 1,
   "metadata": {},
   "outputs": [
    {
     "name": "stdout",
     "output_type": "stream",
     "text": [
      "choose 1 or 2 or 3\n",
      "3\n",
      "enter a value1:1\n",
      "enter a value2:2\n",
      "enter a value3:3\n",
      "enter a value4:4\n",
      "enter a value5:5\n",
      "enter a value6:6\n",
      "your values set, respectively: 1 2 3 4 5 6\n",
      "your arithmetic mean is: 3.5\n",
      "see you next homework, you are sincerely...\n"
     ]
    }
   ],
   "source": [
    "a = float(input(\"choose 1 or 2 or 3\\n\"))\n",
    "if a>3:\n",
    "    print(\"please restart the program\",'\\n')\n",
    "if a==1:\n",
    "        print(\"enter m and enter n\",'\\n')\n",
    "        m = int(input(\"m: \"))\n",
    "        n = int(input(\"n: \"))\n",
    "        \n",
    "        p = (m*m + n*n)\n",
    "        p = p**0.5\n",
    "        print(\"hypotenuse: \\n\",p)\n",
    "        \n",
    "elif a==2:\n",
    "    a = int(input(\"please enter a number: \"))\n",
    "    z = 0\n",
    "    while z < a:\n",
    "        z +=1\n",
    "        print(z)\n",
    "        \n",
    "elif a==3:\n",
    "    value1=int(input(\"enter a value1:\"))\n",
    "    value2=int(input(\"enter a value2:\"))\n",
    "    value3=int(input(\"enter a value3:\"))\n",
    "    value4=int(input(\"enter a value4:\"))\n",
    "    value5=int(input(\"enter a value5:\"))\n",
    "    value6=int(input(\"enter a value6:\"))\n",
    "    \n",
    "    print('your values set, respectively:', value1,value2,value3,value4,value5,value6)\n",
    "    result_of_arithmetic=(value1+value2+value3+value4+value5+value6)/6\n",
    "    print('your arithmetic mean is:', result_of_arithmetic)\n",
    "    \n",
    "    print('see you next homework, you are sincerely...')"
   ]
  },
  {
   "cell_type": "code",
   "execution_count": null,
   "metadata": {},
   "outputs": [],
   "source": []
  }
 ],
 "metadata": {
  "kernelspec": {
   "display_name": "Python 3",
   "language": "python",
   "name": "python3"
  },
  "language_info": {
   "codemirror_mode": {
    "name": "ipython",
    "version": 3
   },
   "file_extension": ".py",
   "mimetype": "text/x-python",
   "name": "python",
   "nbconvert_exporter": "python",
   "pygments_lexer": "ipython3",
   "version": "3.7.3"
  }
 },
 "nbformat": 4,
 "nbformat_minor": 2
}
